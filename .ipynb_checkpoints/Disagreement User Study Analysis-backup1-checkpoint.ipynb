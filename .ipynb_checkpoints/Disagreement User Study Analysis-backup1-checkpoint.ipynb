{
 "cells": [
  {
   "cell_type": "markdown",
   "metadata": {},
   "source": [
    "#### **Packages Used:**"
   ]
  },
  {
   "cell_type": "code",
   "execution_count": 247,
   "metadata": {
    "collapsed": true
   },
   "outputs": [],
   "source": [
    "import numpy as np\n",
    "import pandas as pd\n",
    "import math"
   ]
  },
  {
   "cell_type": "markdown",
   "metadata": {},
   "source": [
    "#### Fisher Transformation\n",
    "* Background and Formula: https://en.wikipedia.org/wiki/Fisher_transformation\n",
    "* Implementation Reference: http://dept.stat.lsa.umich.edu/~kshedden/Python-Workshop/stats_calculations.html"
   ]
  },
  {
   "cell_type": "code",
   "execution_count": 248,
   "metadata": {
    "collapsed": false
   },
   "outputs": [],
   "source": [
    "def fisherTransform(corr):\n",
    "    '''Given 1-row matrix of correlation coefficients, computes Fisher Transform matrix of same dimensions'''\n",
    "    \n",
    "    # Fisher transform all the correlation coefficients (equivalent to hyperbolic tangent)\n",
    "    F = np.arctanh(corr)\n",
    "    \n",
    "    \n",
    "    \n",
    "    \n",
    "    \n",
    "    \n",
    "    # TODO: Clean this up when we know what we want\n",
    "    \n",
    "    # sample size (n is number of columns, which is sample size)\n",
    "    #m, n = corr.shape\n",
    "    \n",
    "    # average correlation coefficient\n",
    "    #r = corr.mean(axis=1)\n",
    "\n",
    "    # StdDev and Error\n",
    "    #fStd = F.std(axis=1)\n",
    "    #fErr = (1/np.sqrt(n-3))\n",
    "    \n",
    "    #avgF = F.mean(axis=1)\n",
    "    \n",
    "    # Transform back to R Value\n",
    "    #convertedR = np.tanh(avgF)\n",
    "    \n",
    "    # 95% confidence intervals on the Fisher transform scale\n",
    "    #LCL = F - 2/np.sqrt(n-3)\n",
    "    #UCL = F + 2/np.sqrt(n-3)\n",
    "\n",
    "    # Convert the intervals back to the correlation scale\n",
    "    #LCL = (np.exp(2*LCL)-1) / (np.exp(2*LCL)+1)\n",
    "    #UCL = (np.exp(2*UCL)-1) / (np.exp(2*UCL)+1)\n",
    "    \n",
    "    # Coverage Probability\n",
    "    #CP = np.mean((LCL < r) & (r < UCL))\n",
    "    \n",
    "    #print ('\\n\\nAverage Fisher transformation:')\n",
    "    #print (avgF)\n",
    "    \n",
    "    #print ('\\nThe standard deviation of the Fisher transformed correlation coefficients is: ' + str(fStd))\n",
    "    #print ('\\nErr = 1/sqrt(n-3)=' + str(fErr))\n",
    "    \n",
    "    #print ('\\nConverted back to R Value:')\n",
    "    #print (convertedR)\n",
    "\n",
    "    # TODO: This does not seem right!!\n",
    "    #print ('The coverage probability is: ' + str(CP))\n",
    "    \n",
    "    return F"
   ]
  },
  {
   "cell_type": "code",
   "execution_count": 249,
   "metadata": {
    "collapsed": true
   },
   "outputs": [],
   "source": [
    "def avgFisherTransform(F):\n",
    "    '''Given 1-row Matrix of Fisher Transform Values, returns Average Fisher Transform'''\n",
    "    return F.mean(axis=1)"
   ]
  },
  {
   "cell_type": "code",
   "execution_count": 250,
   "metadata": {
    "collapsed": true
   },
   "outputs": [],
   "source": [
    "def fisherStdDev(F):\n",
    "    '''Given 1-row Matrix of Fisher Transform Values, returns std dev of Fisher Transform'''\n",
    "    return F.std(axis=1)"
   ]
  },
  {
   "cell_type": "code",
   "execution_count": 251,
   "metadata": {
    "collapsed": true
   },
   "outputs": [],
   "source": [
    "def fisherStdErr(n):\n",
    "    '''Given sample size n, returns standard error for Fisher Transform'''\n",
    "    return (1/np.sqrt(n-3))"
   ]
  },
  {
   "cell_type": "code",
   "execution_count": 252,
   "metadata": {
    "collapsed": true
   },
   "outputs": [],
   "source": [
    "def convertedAvgR(avgF):\n",
    "    '''Given Average Fisher Transform, computes Average R Correlation Coefficient'''\n",
    "    return np.tanh(avgF)"
   ]
  },
  {
   "cell_type": "markdown",
   "metadata": {},
   "source": [
    "#### **Load data into numpy array and pandas dataframes:**\n",
    "* **datasetXX_nTreeRanks:** Ordered n-ary tree ranks for dataset XX (A, B, C, or D)\n",
    "* **datasetXX_absRanks:** Ordered absolute post-traversal ranks for dataset XX (A, B, C, or D)\n"
   ]
  },
  {
   "cell_type": "code",
   "execution_count": 253,
   "metadata": {
    "collapsed": false
   },
   "outputs": [],
   "source": [
    "rawData = np.loadtxt(fname='disagreement-mturk-raw-ids-rankings-only.csv', delimiter=',', skiprows=1, \n",
    "                     dtype=np.dtype([('version', 'i4'), ('responseId', 'S25'), \n",
    "                                     ('rDA_1', 'f4'), ('rDA_2', 'f4'), ('rDA_3', 'f4'), ('rDA_4', 'f4'), ('rDA_5', 'f4'), \n",
    "                                     ('sDA_1', 'f4'), ('sDA_2', 'f4'), ('sDA_3', 'f4'), ('sDA_4', 'f4'), ('sDA_5', 'f4'), \n",
    "                                     ('rDB_1', 'f4'), ('rDB_2', 'f4'), ('rDB_3', 'f4'), ('rDB_4', 'f4'), ('rDB_5', 'f4'), \n",
    "                                     ('sDB_1', 'f4'), ('sDB_2', 'f4'), ('sDB_3', 'f4'), ('sDB_4', 'f4'), ('sDB_5', 'f4'), \n",
    "                                     ('rDC_1', 'f4'), ('rDC_2', 'f4'), ('rDC_3', 'f4'), ('rDC_4', 'f4'), ('rDC_5', 'f4'), \n",
    "                                     ('sDC_1', 'f4'), ('sDC_2', 'f4'), ('sDC_3', 'f4'), ('sDC_4', 'f4'), ('sDC_5', 'f4'), \n",
    "                                     ('rDD_1', 'f4'), ('rDD_2', 'f4'), ('rDD_3', 'f4'), ('rDD_4', 'f4'), ('rDD_5', 'f4'), \n",
    "                                     ('sDD_1', 'f4'), ('sDD_2', 'f4'), ('sDD_3', 'f4'), ('sDD_4', 'f4'), ('sDD_5', 'f4'), \n",
    "                                     ('mTurkCode', 'S25')]))\n",
    "\n",
    "# initialize n-ary tree ranking results with headers\n",
    "nTresults = [['overallCoeff', 'overallFTrans', 'overallConvCoeff']]\n",
    "\n",
    "# full data frame\n",
    "df = pd.DataFrame(rawData)\n",
    "\n",
    "# Utils for all datasets\n",
    "overallDropCols = [50,51]\n",
    "group1DropCols = []\n",
    "group2DropCols = []\n",
    "\n",
    "# Ground Truth Ranking Datasets\n",
    "datasetA_nTreeRanks = df.ix[df['version']==3].filter(['rDA_1', 'rDA_2', 'rDA_3', 'rDA_4', 'rDA_5']).T\n",
    "datasetA_absRanks = df.ix[df['version']==4].filter(['rDA_1', 'rDA_2', 'rDA_3', 'rDA_4', 'rDA_5']).T\n",
    "\n",
    "\n",
    "# Dataset A\n",
    "datasetA_overall_ranks = df.filter(['rDA_1', 'rDA_2', 'rDA_3', 'rDA_4', 'rDA_5']).T\n",
    "datasetA_overall_sliders = df.filter(['sDA_1', 'sDA_2', 'sDA_3', 'sDA_4', 'sDA_5']).T\n",
    "datasetA_overall_ranks = df.filter(['rDA_1', 'rDA_2', 'rDA_3', 'rDA_4', 'rDA_5']).T\n",
    "\n",
    "\n"
   ]
  },
  {
   "cell_type": "markdown",
   "metadata": {},
   "source": [
    "#### **Calculate Correlations and Store Results:**\n",
    "* Pearson's used for Rank data\n",
    "* Spearman's used for continuous (slider) data\n",
    "* TODO: Currently only applying n-ary tree ranking, but data is in place for absolute ranking also (indices for n-ary tree are hard-coded currently)"
   ]
  },
  {
   "cell_type": "code",
   "execution_count": 254,
   "metadata": {
    "collapsed": true
   },
   "outputs": [],
   "source": [
    "def pearsonStats(dataId, overall, group1, group2):\n",
    "    '''Given a dataset name, overall data set and dataset for each group, returns list of results for pearson method'''\n",
    "    \n",
    "    #initialize empty list of stats\n",
    "    stats=[]\n",
    "    \n",
    "    # overall data\n",
    "    \n",
    "    # all correlations\n",
    "    overallCorr = overall.corr(method='pearson', min_periods=5)\n",
    "    # correlations with n-ary tree ranking\n",
    "    nTOverall = overallCorr[-2:-1].drop(pearsonA_overall.columns[overallDropCols],axis=1)\n",
    "    # average n-ary tree correlation\n",
    "    avgNtOverall = nTOverall.mean(axis=1)\n",
    "    stats.append(avgNtOverall)\n",
    "    # average F-transform of n-ary tree metric\n",
    "    fTransform = fisherTransform(nTOverall)\n",
    "    avgF = avgFisherTransform(fTransform)\n",
    "    stats.append(avgF)\n",
    "    # converted average correlation coeff\n",
    "    convAvgR = convertedAvgR(avgF)\n",
    "    stats.append(convAvgR)\n",
    "    \n",
    "    return stats\n",
    "    "
   ]
  },
  {
   "cell_type": "code",
   "execution_count": 256,
   "metadata": {
    "collapsed": false
   },
   "outputs": [
    {
     "name": "stdout",
     "output_type": "stream",
     "text": [
      "\n",
      "Original Average N-Ary Tree Corr\n",
      "50    0.748\n",
      "dtype: float64\n",
      "Average Fisher Transformation for N-ary Tree Ranking:\n",
      "50    inf\n",
      "dtype: float64\n",
      "Converted Avg Corr Coeff\n",
      "50    1.0\n",
      "dtype: float64\n"
     ]
    },
    {
     "name": "stderr",
     "output_type": "stream",
     "text": [
      "C:\\ProgramData\\Anaconda3\\lib\\site-packages\\ipykernel\\__main__.py:5: RuntimeWarning: divide by zero encountered in arctanh\n"
     ]
    }
   ],
   "source": [
    "\n",
    "\n",
    "# Dataset A Ranks\n",
    "aRanks = pearsonStats('datasetA_ranks', datasetA_overall_ranks, datasetA_group1_ranks, datasetA_group2_ranks)\n",
    "nTresults.append(aRanks)\n",
    "\n",
    "#pearsonA_overall = datasetA_overall_ranks.corr(method='pearson', min_periods=5)\n",
    "pearsonA_group1 = datasetA_group1_ranks.corr(method='pearson', min_periods=5)\n",
    "pearsonA_group2 = datasetA_group2_ranks.corr(method='pearson', min_periods=5)\n",
    "\n",
    "\n",
    "# Dataset A Sliders\n",
    "spearmanA_overall = datasetA_overall_sliders.corr(method='spearman', min_periods=5)\n",
    "\n",
    "#print(pearsonA_overall)\n",
    "\n",
    "\n",
    "\n",
    "# Correlations with n-ary tree ranking\n",
    "nT_pearsonA_overall = pearsonA_overall[-2:-1].drop(pearsonA_overall.columns[overallDropCols],axis=1)\n",
    "\n",
    "#print ('\\nN-Ary Tree Corr only')\n",
    "#print(nT_pearsonA_overall)\n",
    "\n",
    "#avg_nT_pearsonA_overall = nT_pearsonA_overall.mean(axis=1)\n",
    "\n",
    "print ('\\nOriginal Average N-Ary Tree Corr')\n",
    "print (avg_nT_pearsonA_overall[0][1])\n",
    "\n",
    "print ('Average Fisher Transformation for N-ary Tree Ranking:')\n",
    "F = fisherTransform(nT_pearsonA_overall)\n",
    "avgF = avgFisherTransform(F)\n",
    "print (avgF)\n",
    "\n",
    "print ('Converted Avg Corr Coeff')\n",
    "convAvgCoeff = convertedAvgR(avgF)\n",
    "print (convAvgCoeff)"
   ]
  },
  {
   "cell_type": "markdown",
   "metadata": {},
   "source": [
    "#### Print Results Table:"
   ]
  },
  {
   "cell_type": "code",
   "execution_count": 257,
   "metadata": {
    "collapsed": false
   },
   "outputs": [
    {
     "name": "stdout",
     "output_type": "stream",
     "text": [
      "[['overallCoeff', 'overallFTrans', 'overallConvCoeff'], [50    0.748\n",
      "dtype: float64, 50    inf\n",
      "dtype: float64, 50    1.0\n",
      "dtype: float64], [50    0.748\n",
      "dtype: float64, 50    inf\n",
      "dtype: float64, 50    1.0\n",
      "dtype: float64]]\n"
     ]
    }
   ],
   "source": [
    "print(nTresults)"
   ]
  },
  {
   "cell_type": "code",
   "execution_count": null,
   "metadata": {
    "collapsed": true
   },
   "outputs": [],
   "source": []
  }
 ],
 "metadata": {
  "kernelspec": {
   "display_name": "Python 3",
   "language": "python",
   "name": "python3"
  },
  "language_info": {
   "codemirror_mode": {
    "name": "ipython",
    "version": 3
   },
   "file_extension": ".py",
   "mimetype": "text/x-python",
   "name": "python",
   "nbconvert_exporter": "python",
   "pygments_lexer": "ipython3",
   "version": "3.6.0"
  }
 },
 "nbformat": 4,
 "nbformat_minor": 2
}
