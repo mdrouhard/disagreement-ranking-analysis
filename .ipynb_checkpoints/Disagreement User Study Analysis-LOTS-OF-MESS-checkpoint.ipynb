{
 "cells": [
  {
   "cell_type": "markdown",
   "metadata": {},
   "source": [
    "#### **Packages Used:**"
   ]
  },
  {
   "cell_type": "code",
   "execution_count": 137,
   "metadata": {
    "collapsed": true
   },
   "outputs": [],
   "source": [
    "import numpy as np\n",
    "import pandas as pd"
   ]
  },
  {
   "cell_type": "markdown",
   "metadata": {},
   "source": [
    "#### Fisher Transformation\n",
    "(https://en.wikipedia.org/wiki/Fisher_transformation)"
   ]
  },
  {
   "cell_type": "code",
   "execution_count": 152,
   "metadata": {
    "collapsed": false
   },
   "outputs": [],
   "source": [
    "def fisherTransform(corr):\n",
    "    # sample size\n",
    "    m, n = corr.shape\n",
    "    print ('length:')\n",
    "    print (n)\n",
    "\n",
    "    ## Fisher transform all the correlation coefficients\n",
    "    #F = 0.5*np.log((1+corr)/(1-corr))\n",
    "    F = np.arctan(corr)\n",
    "    print ('Fisher transformed:')\n",
    "    print (F)\n",
    "    print ('The standard deviation of the Fisher transformed correlation coefficients is: ' + str(F.std()))\n",
    "    print ('1/sqrt(n-3)=' + str((1/np.sqrt(n-3))))\n",
    "\n",
    "    ## 95% confidence intervals on the Fisher transform scale\n",
    "    #LCL = F - 2/np.sqrt(n-3)\n",
    "    #UCL = F + 2/np.sqrt(n-3)\n",
    "\n",
    "    ## Convert the intervals back to the correlation scale\n",
    "    #LCL = (np.exp(2*LCL)-1) / (np.exp(2*LCL)+1)\n",
    "    #UCL = (np.exp(2*UCL)-1) / (np.exp(2*UCL)+1)\n",
    "\n",
    "    #CP = np.mean((LCL < r) & (r < UCL))\n",
    "\n",
    "    #print ('The coverage probability is: ' + CP)\n",
    "    \n",
    "    return F"
   ]
  },
  {
   "cell_type": "code",
   "execution_count": 153,
   "metadata": {
    "collapsed": false
   },
   "outputs": [],
   "source": [
    "#TEST\n",
    "\n",
    "testDF = pd.DataFrame(np.random.randn(100, 6), columns=['rda1', 'rda2', 'rda3', 'rda4', 'rda5', 'GT'])\n",
    "\n",
    "#print(testDF)\n",
    "\n",
    "\n",
    "corr = testDF.corr(method='pearson')\n",
    "\n",
    "#print ('full matrix:')\n",
    "#print (corr)\n",
    "\n",
    "\n",
    "gtCorr = corr[-1:].drop('GT', axis=1)\n",
    "\n",
    "#print ('\\nGT Corr only')\n",
    "#print(gtCorr)\n",
    "\n",
    "avgCorrPearson = gtCorr.mean(axis=1)\n",
    "\n",
    "#print ('\\nAverage GT Corr')\n",
    "#print (avgCorrPearson)\n",
    "\n",
    "#print ('Fisher Transformation:')\n",
    "#fisherTransform(gtCorr)"
   ]
  },
  {
   "cell_type": "markdown",
   "metadata": {},
   "source": [
    "#### **Load data into numpy array and pandas dataframes:**\n",
    "* **datasetXX_nTreeRanks:** Ordered n-ary tree ranks for dataset XX (A, B, C, or D)\n",
    "* **datasetXX_absRanks:** Ordered absolute post-traversal ranks for dataset XX (A, B, C, or D)\n"
   ]
  },
  {
   "cell_type": "code",
   "execution_count": 154,
   "metadata": {
    "collapsed": false
   },
   "outputs": [],
   "source": [
    "rawData = np.loadtxt(fname='disagreement-mturk-raw-ids-rankings-only.csv', delimiter=',', skiprows=1, \n",
    "                     dtype=np.dtype([('version', 'i4'), ('responseId', 'S25'), \n",
    "                                     ('rDA_1', 'f4'), ('rDA_2', 'f4'), ('rDA_3', 'f4'), ('rDA_4', 'f4'), ('rDA_5', 'f4'), \n",
    "                                     ('sDA_1', 'f4'), ('sDA_2', 'f4'), ('sDA_3', 'f4'), ('sDA_4', 'f4'), ('sDA_5', 'f4'), \n",
    "                                     ('rDB_1', 'f4'), ('rDB_2', 'f4'), ('rDB_3', 'f4'), ('rDB_4', 'f4'), ('rDB_5', 'f4'), \n",
    "                                     ('sDB_1', 'f4'), ('sDB_2', 'f4'), ('sDB_3', 'f4'), ('sDB_4', 'f4'), ('sDB_5', 'f4'), \n",
    "                                     ('rDC_1', 'f4'), ('rDC_2', 'f4'), ('rDC_3', 'f4'), ('rDC_4', 'f4'), ('rDC_5', 'f4'), \n",
    "                                     ('sDC_1', 'f4'), ('sDC_2', 'f4'), ('sDC_3', 'f4'), ('sDC_4', 'f4'), ('sDC_5', 'f4'), \n",
    "                                     ('rDD_1', 'f4'), ('rDD_2', 'f4'), ('rDD_3', 'f4'), ('rDD_4', 'f4'), ('rDD_5', 'f4'), \n",
    "                                     ('sDD_1', 'f4'), ('sDD_2', 'f4'), ('sDD_3', 'f4'), ('sDD_4', 'f4'), ('sDD_5', 'f4'), \n",
    "                                     ('mTurkCode', 'S25')]))\n",
    "\n",
    "df = pd.DataFrame(rawData).drop('responseId', axis=1)\n",
    "\n",
    "datasetA_nTreeRanks = df.ix[df['version']==3].filter(['rDA_1', 'rDA_2', 'rDA_3', 'rDA_4', 'rDA_5']).T\n",
    "datasetA_absRanks = df.ix[df['version']==4].filter(['rDA_1', 'rDA_2', 'rDA_3', 'rDA_4', 'rDA_5']).T\n",
    "\n",
    "datasetA_overall_ranks = df.filter(['rDA_1', 'rDA_2', 'rDA_3', 'rDA_4', 'rDA_5']).T\n",
    "datasetA_overall_sliders = df.filter(['sDA_1', 'sDA_2', 'sDA_3', 'sDA_4', 'sDA_5']).T\n",
    "\n",
    "#print (df)\n",
    "\n"
   ]
  },
  {
   "cell_type": "markdown",
   "metadata": {},
   "source": [
    "#### **Calculate Correlations with Pearson's and Spearman's Methods:**"
   ]
  },
  {
   "cell_type": "code",
   "execution_count": 159,
   "metadata": {
    "collapsed": false
   },
   "outputs": [
    {
     "name": "stdout",
     "output_type": "stream",
     "text": [
      "\n",
      "N-Ary Tree Corr only\n",
      "     0    1    2    3    4    5    6    7    8    9  ...    40   41   42   43  \\\n",
      "50  0.9  0.0  0.1  1.0  1.0  1.0 -0.8  0.9  0.9  0.9 ...   1.0  0.7  0.5  0.3   \n",
      "\n",
      "     44   45   46   47   48   49  \n",
      "50  0.9  1.0  0.9  0.9  0.7  0.9  \n",
      "\n",
      "[1 rows x 50 columns]\n",
      "\n",
      "Average N-Ary Tree Corr\n",
      "50    0.748\n",
      "dtype: float64\n",
      "Fisher Transformation for N-ary Tree Ranking:\n",
      "length:\n",
      "50\n",
      "Fisher transformed:\n",
      "          0    1         2         3         4         5         6         7   \\\n",
      "50  0.732815  0.0  0.099669  0.785398  0.785398  0.785398 -0.674741  0.732815   \n",
      "\n",
      "          8         9     ...           40        41        42        43  \\\n",
      "50  0.732815  0.732815    ...     0.785398  0.610726  0.463648  0.291457   \n",
      "\n",
      "          44        45        46        47        48        49  \n",
      "50  0.732815  0.785398  0.732815  0.732815  0.610726  0.732815  \n",
      "\n",
      "[1 rows x 50 columns]\n",
      "The standard deviation of the Fisher transformed correlation coefficients is: 0    NaN\n",
      "1    NaN\n",
      "2    NaN\n",
      "3    NaN\n",
      "4    NaN\n",
      "5    NaN\n",
      "6    NaN\n",
      "7    NaN\n",
      "8    NaN\n",
      "9    NaN\n",
      "10   NaN\n",
      "11   NaN\n",
      "12   NaN\n",
      "13   NaN\n",
      "14   NaN\n",
      "15   NaN\n",
      "16   NaN\n",
      "17   NaN\n",
      "18   NaN\n",
      "19   NaN\n",
      "20   NaN\n",
      "21   NaN\n",
      "22   NaN\n",
      "23   NaN\n",
      "24   NaN\n",
      "25   NaN\n",
      "26   NaN\n",
      "27   NaN\n",
      "28   NaN\n",
      "29   NaN\n",
      "30   NaN\n",
      "31   NaN\n",
      "32   NaN\n",
      "33   NaN\n",
      "34   NaN\n",
      "35   NaN\n",
      "36   NaN\n",
      "37   NaN\n",
      "38   NaN\n",
      "39   NaN\n",
      "40   NaN\n",
      "41   NaN\n",
      "42   NaN\n",
      "43   NaN\n",
      "44   NaN\n",
      "45   NaN\n",
      "46   NaN\n",
      "47   NaN\n",
      "48   NaN\n",
      "49   NaN\n",
      "dtype: float64\n",
      "1/sqrt(n-3)=0.145864991498\n"
     ]
    },
    {
     "data": {
      "text/html": [
       "<div>\n",
       "<table border=\"1\" class=\"dataframe\">\n",
       "  <thead>\n",
       "    <tr style=\"text-align: right;\">\n",
       "      <th></th>\n",
       "      <th>0</th>\n",
       "      <th>1</th>\n",
       "      <th>2</th>\n",
       "      <th>3</th>\n",
       "      <th>4</th>\n",
       "      <th>5</th>\n",
       "      <th>6</th>\n",
       "      <th>7</th>\n",
       "      <th>8</th>\n",
       "      <th>9</th>\n",
       "      <th>...</th>\n",
       "      <th>40</th>\n",
       "      <th>41</th>\n",
       "      <th>42</th>\n",
       "      <th>43</th>\n",
       "      <th>44</th>\n",
       "      <th>45</th>\n",
       "      <th>46</th>\n",
       "      <th>47</th>\n",
       "      <th>48</th>\n",
       "      <th>49</th>\n",
       "    </tr>\n",
       "  </thead>\n",
       "  <tbody>\n",
       "    <tr>\n",
       "      <th>50</th>\n",
       "      <td>0.732815</td>\n",
       "      <td>0.0</td>\n",
       "      <td>0.099669</td>\n",
       "      <td>0.785398</td>\n",
       "      <td>0.785398</td>\n",
       "      <td>0.785398</td>\n",
       "      <td>-0.674741</td>\n",
       "      <td>0.732815</td>\n",
       "      <td>0.732815</td>\n",
       "      <td>0.732815</td>\n",
       "      <td>...</td>\n",
       "      <td>0.785398</td>\n",
       "      <td>0.610726</td>\n",
       "      <td>0.463648</td>\n",
       "      <td>0.291457</td>\n",
       "      <td>0.732815</td>\n",
       "      <td>0.785398</td>\n",
       "      <td>0.732815</td>\n",
       "      <td>0.732815</td>\n",
       "      <td>0.610726</td>\n",
       "      <td>0.732815</td>\n",
       "    </tr>\n",
       "  </tbody>\n",
       "</table>\n",
       "<p>1 rows × 50 columns</p>\n",
       "</div>"
      ],
      "text/plain": [
       "          0    1         2         3         4         5         6         7   \\\n",
       "50  0.732815  0.0  0.099669  0.785398  0.785398  0.785398 -0.674741  0.732815   \n",
       "\n",
       "          8         9     ...           40        41        42        43  \\\n",
       "50  0.732815  0.732815    ...     0.785398  0.610726  0.463648  0.291457   \n",
       "\n",
       "          44        45        46        47        48        49  \n",
       "50  0.732815  0.785398  0.732815  0.732815  0.610726  0.732815  \n",
       "\n",
       "[1 rows x 50 columns]"
      ]
     },
     "execution_count": 159,
     "metadata": {},
     "output_type": "execute_result"
    }
   ],
   "source": [
    "pearsonA_overall = datasetA_overall_ranks.corr(method='pearson', min_periods=5)\n",
    "spearmanA_overall = datasetA_overall_ranks.corr(method='spearman', min_periods=5)\n",
    "\n",
    "#print(pearsonA_overall)\n",
    "\n",
    "dropCols = [50,51]\n",
    "\n",
    "# Correlations with n-ary tree ranking\n",
    "nT_pearsonA_overall = pearsonA_overall[-2:-1].drop(pearsonA_overall.columns[dropCols],axis=1)\n",
    "\n",
    "print ('\\nN-Ary Tree Corr only')\n",
    "print(nT_pearsonA_overall)\n",
    "\n",
    "avg_nT_pearsonA_overall = nT_pearsonA_overall.mean(axis=1)\n",
    "\n",
    "print ('\\nAverage N-Ary Tree Corr')\n",
    "print (avg_nT_pearsonA_overall)\n",
    "\n",
    "print ('Fisher Transformation for N-ary Tree Ranking:')\n",
    "fisherTransform(nT_pearsonA_overall)"
   ]
  },
  {
   "cell_type": "code",
   "execution_count": 160,
   "metadata": {
    "collapsed": false
   },
   "outputs": [],
   "source": [
    "rawData = np.loadtxt(fname='disagreement-mturk-raw-ids-rankings-only.csv', delimiter=',', skiprows=1, \n",
    "                     dtype=np.dtype([('version', 'i4'), ('responseId', 'S25'), \n",
    "                                     ('rDA_1', 'f4'), ('rDA_2', 'f4'), ('rDA_3', 'f4'), ('rDA_4', 'f4'), ('rDA_5', 'f4'), \n",
    "                                     ('sDA_1', 'f4'), ('sDA_2', 'f4'), ('sDA_3', 'f4'), ('sDA_4', 'f4'), ('sDA_5', 'f4'), \n",
    "                                     ('rDB_1', 'f4'), ('rDB_2', 'f4'), ('rDB_3', 'f4'), ('rDB_4', 'f4'), ('rDB_5', 'f4'), \n",
    "                                     ('sDB_1', 'f4'), ('sDB_2', 'f4'), ('sDB_3', 'f4'), ('sDB_4', 'f4'), ('sDB_5', 'f4'), \n",
    "                                     ('rDC_1', 'f4'), ('rDC_2', 'f4'), ('rDC_3', 'f4'), ('rDC_4', 'f4'), ('rDC_5', 'f4'), \n",
    "                                     ('sDC_1', 'f4'), ('sDC_2', 'f4'), ('sDC_3', 'f4'), ('sDC_4', 'f4'), ('sDC_5', 'f4'), \n",
    "                                     ('rDD_1', 'f4'), ('rDD_2', 'f4'), ('rDD_3', 'f4'), ('rDD_4', 'f4'), ('rDD_5', 'f4'), \n",
    "                                     ('sDD_1', 'f4'), ('sDD_2', 'f4'), ('sDD_3', 'f4'), ('sDD_4', 'f4'), ('sDD_5', 'f4'), \n",
    "                                     ('mTurkCode', 'S25')]))\n",
    "\n",
    "df = pd.DataFrame(rawData)\n",
    "\n",
    "\n",
    "datasetA_nTreeRanks = df.ix[df['version']==3].filter(['rDA_1', 'rDA_2', 'rDA_3', 'rDA_4', 'rDA_5'])\n",
    "datasetA_absRanks = df.ix[df['version']==4].filter(['rDA_1', 'rDA_2', 'rDA_3', 'rDA_4', 'rDA_5'])\n",
    "\n",
    "# dataset A for group 1 - table data\n",
    "datasetA_group1_ranks = df.ix[df['version']==1].filter(['rDA_1', 'rDA_2', 'rDA_3', 'rDA_4', 'rDA_5'])\n",
    "datasetA_group1_sliders = df.ix[df['version']==1].filter(['sDA_1', 'sDA_2', 'sDA_3', 'sDA_4', 'sDA_5'])\n",
    "\n",
    "# dataset A for group 2 - visualization data\n",
    "datasetA_group2_ranks = df.ix[df['version']==2].filter(['rDA_1', 'rDA_2', 'rDA_3', 'rDA_4', 'rDA_5'])\n",
    "datasetA_group2_sliders = df.ix[df['version']==2].filter(['sDA_1', 'sDA_2', 'sDA_3', 'sDA_4', 'sDA_5'])\n",
    "\n",
    "# dataset A overall\n",
    "datasetA_overall_ranks = df.ix[(df['version']==1)|(df['version']==2)].filter(['rDA_1', 'rDA_2', 'rDA_3', 'rDA_4', 'rDA_5'])\n",
    "datasetA_overall_sliders = df.ix[(df['version']==1)|(df['version']==2)].filter(['sDA_1', 'sDA_2', 'sDA_3', 'sDA_4', 'sDA_5'])\n",
    "\n",
    "#print (datasetA_nTreeRanks)\n",
    "#print (datasetA_absRanks)\n",
    "\n",
    "#print(datasetA_overall_sliders)"
   ]
  },
  {
   "cell_type": "markdown",
   "metadata": {},
   "source": [
    "#### **Compute Correlations and Average Correlation for each group:**"
   ]
  },
  {
   "cell_type": "code",
   "execution_count": 161,
   "metadata": {
    "collapsed": false
   },
   "outputs": [
    {
     "name": "stdout",
     "output_type": "stream",
     "text": [
      "0\n"
     ]
    },
    {
     "ename": "ValueError",
     "evalue": "Location based indexing can only have [integer, integer slice (START point is INCLUDED, END point is EXCLUDED), listlike of integers, boolean array] types",
     "output_type": "error",
     "traceback": [
      "\u001b[0;31m---------------------------------------------------------------------------\u001b[0m",
      "\u001b[0;31mValueError\u001b[0m                                Traceback (most recent call last)",
      "\u001b[0;32m<ipython-input-161-1a540f4c2a45>\u001b[0m in \u001b[0;36m<module>\u001b[0;34m()\u001b[0m\n\u001b[1;32m     18\u001b[0m     \u001b[1;32mreturn\u001b[0m \u001b[0mpearson_stats\u001b[0m\u001b[1;33m\u001b[0m\u001b[0m\n\u001b[1;32m     19\u001b[0m \u001b[1;33m\u001b[0m\u001b[0m\n\u001b[0;32m---> 20\u001b[0;31m \u001b[0mcomputePearson\u001b[0m\u001b[1;33m(\u001b[0m\u001b[0mdf\u001b[0m\u001b[1;33m=\u001b[0m\u001b[0mdatasetA_overall_ranks\u001b[0m\u001b[1;33m,\u001b[0m \u001b[0mgt\u001b[0m\u001b[1;33m=\u001b[0m\u001b[0mdatasetA_nTreeRanks\u001b[0m\u001b[1;33m)\u001b[0m\u001b[1;33m\u001b[0m\u001b[0m\n\u001b[0m\u001b[1;32m     21\u001b[0m \u001b[1;33m\u001b[0m\u001b[0m\n\u001b[1;32m     22\u001b[0m \u001b[1;33m\u001b[0m\u001b[0m\n",
      "\u001b[0;32m<ipython-input-161-1a540f4c2a45>\u001b[0m in \u001b[0;36mcomputePearson\u001b[0;34m(df, gt)\u001b[0m\n\u001b[1;32m     15\u001b[0m         \u001b[1;31m#df.iloc[index, 'pearsonsNTree_p'] = p\u001b[0m\u001b[1;33m\u001b[0m\u001b[1;33m\u001b[0m\u001b[0m\n\u001b[1;32m     16\u001b[0m         \u001b[0mprint\u001b[0m \u001b[1;33m(\u001b[0m\u001b[0mindex\u001b[0m\u001b[1;33m)\u001b[0m\u001b[1;33m\u001b[0m\u001b[0m\n\u001b[0;32m---> 17\u001b[0;31m         \u001b[0mprint\u001b[0m \u001b[1;33m(\u001b[0m\u001b[0mdf\u001b[0m\u001b[1;33m.\u001b[0m\u001b[0miloc\u001b[0m\u001b[1;33m[\u001b[0m\u001b[0mindex\u001b[0m\u001b[1;33m,\u001b[0m\u001b[1;34m'pearsonsNTree_r'\u001b[0m\u001b[1;33m]\u001b[0m\u001b[1;33m)\u001b[0m\u001b[1;33m\u001b[0m\u001b[0m\n\u001b[0m\u001b[1;32m     18\u001b[0m     \u001b[1;32mreturn\u001b[0m \u001b[0mpearson_stats\u001b[0m\u001b[1;33m\u001b[0m\u001b[0m\n\u001b[1;32m     19\u001b[0m \u001b[1;33m\u001b[0m\u001b[0m\n",
      "\u001b[0;32mC:\\ProgramData\\Anaconda3\\lib\\site-packages\\pandas\\core\\indexing.py\u001b[0m in \u001b[0;36m__getitem__\u001b[0;34m(self, key)\u001b[0m\n\u001b[1;32m   1308\u001b[0m \u001b[1;33m\u001b[0m\u001b[0m\n\u001b[1;32m   1309\u001b[0m         \u001b[1;32mif\u001b[0m \u001b[0mtype\u001b[0m\u001b[1;33m(\u001b[0m\u001b[0mkey\u001b[0m\u001b[1;33m)\u001b[0m \u001b[1;32mis\u001b[0m \u001b[0mtuple\u001b[0m\u001b[1;33m:\u001b[0m\u001b[1;33m\u001b[0m\u001b[0m\n\u001b[0;32m-> 1310\u001b[0;31m             \u001b[1;32mreturn\u001b[0m \u001b[0mself\u001b[0m\u001b[1;33m.\u001b[0m\u001b[0m_getitem_tuple\u001b[0m\u001b[1;33m(\u001b[0m\u001b[0mkey\u001b[0m\u001b[1;33m)\u001b[0m\u001b[1;33m\u001b[0m\u001b[0m\n\u001b[0m\u001b[1;32m   1311\u001b[0m         \u001b[1;32melse\u001b[0m\u001b[1;33m:\u001b[0m\u001b[1;33m\u001b[0m\u001b[0m\n\u001b[1;32m   1312\u001b[0m             \u001b[1;32mreturn\u001b[0m \u001b[0mself\u001b[0m\u001b[1;33m.\u001b[0m\u001b[0m_getitem_axis\u001b[0m\u001b[1;33m(\u001b[0m\u001b[0mkey\u001b[0m\u001b[1;33m,\u001b[0m \u001b[0maxis\u001b[0m\u001b[1;33m=\u001b[0m\u001b[1;36m0\u001b[0m\u001b[1;33m)\u001b[0m\u001b[1;33m\u001b[0m\u001b[0m\n",
      "\u001b[0;32mC:\\ProgramData\\Anaconda3\\lib\\site-packages\\pandas\\core\\indexing.py\u001b[0m in \u001b[0;36m_getitem_tuple\u001b[0;34m(self, tup)\u001b[0m\n\u001b[1;32m   1558\u001b[0m     \u001b[1;32mdef\u001b[0m \u001b[0m_getitem_tuple\u001b[0m\u001b[1;33m(\u001b[0m\u001b[0mself\u001b[0m\u001b[1;33m,\u001b[0m \u001b[0mtup\u001b[0m\u001b[1;33m)\u001b[0m\u001b[1;33m:\u001b[0m\u001b[1;33m\u001b[0m\u001b[0m\n\u001b[1;32m   1559\u001b[0m \u001b[1;33m\u001b[0m\u001b[0m\n\u001b[0;32m-> 1560\u001b[0;31m         \u001b[0mself\u001b[0m\u001b[1;33m.\u001b[0m\u001b[0m_has_valid_tuple\u001b[0m\u001b[1;33m(\u001b[0m\u001b[0mtup\u001b[0m\u001b[1;33m)\u001b[0m\u001b[1;33m\u001b[0m\u001b[0m\n\u001b[0m\u001b[1;32m   1561\u001b[0m         \u001b[1;32mtry\u001b[0m\u001b[1;33m:\u001b[0m\u001b[1;33m\u001b[0m\u001b[0m\n\u001b[1;32m   1562\u001b[0m             \u001b[1;32mreturn\u001b[0m \u001b[0mself\u001b[0m\u001b[1;33m.\u001b[0m\u001b[0m_getitem_lowerdim\u001b[0m\u001b[1;33m(\u001b[0m\u001b[0mtup\u001b[0m\u001b[1;33m)\u001b[0m\u001b[1;33m\u001b[0m\u001b[0m\n",
      "\u001b[0;32mC:\\ProgramData\\Anaconda3\\lib\\site-packages\\pandas\\core\\indexing.py\u001b[0m in \u001b[0;36m_has_valid_tuple\u001b[0;34m(self, key)\u001b[0m\n\u001b[1;32m    151\u001b[0m             \u001b[1;32mif\u001b[0m \u001b[1;32mnot\u001b[0m \u001b[0mself\u001b[0m\u001b[1;33m.\u001b[0m\u001b[0m_has_valid_type\u001b[0m\u001b[1;33m(\u001b[0m\u001b[0mk\u001b[0m\u001b[1;33m,\u001b[0m \u001b[0mi\u001b[0m\u001b[1;33m)\u001b[0m\u001b[1;33m:\u001b[0m\u001b[1;33m\u001b[0m\u001b[0m\n\u001b[1;32m    152\u001b[0m                 raise ValueError(\"Location based indexing can only have [%s] \"\n\u001b[0;32m--> 153\u001b[0;31m                                  \"types\" % self._valid_types)\n\u001b[0m\u001b[1;32m    154\u001b[0m \u001b[1;33m\u001b[0m\u001b[0m\n\u001b[1;32m    155\u001b[0m     \u001b[1;32mdef\u001b[0m \u001b[0m_should_validate_iterable\u001b[0m\u001b[1;33m(\u001b[0m\u001b[0mself\u001b[0m\u001b[1;33m,\u001b[0m \u001b[0maxis\u001b[0m\u001b[1;33m=\u001b[0m\u001b[1;36m0\u001b[0m\u001b[1;33m)\u001b[0m\u001b[1;33m:\u001b[0m\u001b[1;33m\u001b[0m\u001b[0m\n",
      "\u001b[0;31mValueError\u001b[0m: Location based indexing can only have [integer, integer slice (START point is INCLUDED, END point is EXCLUDED), listlike of integers, boolean array] types"
     ]
    }
   ],
   "source": [
    "def computePearson(df, gt):\n",
    "    '''\n",
    "    Computes correlation of each row in df (dataframe) with gt (ground truth) values.\n",
    "    Correlation type identified by 'method.'\n",
    "    Results added to df in column identified by 'colName.'\n",
    "    '''\n",
    "    \n",
    "    pearsons_stats = dict()\n",
    "    \n",
    "    for index, row in df.iterrows():\n",
    "        r=1.0\n",
    "        p=25.0\n",
    "        \n",
    "        df.iloc[index]['pearsonsNTree_r'] = r\n",
    "        #df.iloc[index, 'pearsonsNTree_p'] = p\n",
    "        print (index)\n",
    "        print (df.iloc[index,'pearsonsNTree_r'])\n",
    "    return pearson_stats\n",
    "\n",
    "computePearson(df=datasetA_overall_ranks, gt=datasetA_nTreeRanks)\n",
    "\n",
    "\n",
    "#print (datasetA_overall_ranks.iloc[1])\n",
    "#print (datasetA_nTreeRanks.iloc[0])\n",
    "\n",
    "#r, p = stats.pearsonr(datasetA_overall_ranks.iloc[1],datasetA_nTreeRanks.iloc[0])\n",
    "\n",
    "#data1 = np.array([5.0, 1.0, 2.0, 4.0, 3.0])\n",
    "#gt = np.array([4.0, 1.0, 2.0, 5.0, 3.0])\n",
    "\n",
    "#r, p = stats.pearsonr(data1, gt)\n",
    "\n",
    "#print(r)\n",
    "#print(p)\n",
    "\n",
    "\n",
    "#datasetA_overall_ranks['pearsonsNTree_r'], datasetA_overall_ranks['pearsonsNTree_p'] = datasetA_overall_ranks.apply(stats.pearsonr, axis=1, args=(datasetA_nTreeRanks.iloc[0]))\n",
    "\n",
    "\n",
    "print (datasetA_overall_ranks)"
   ]
  },
  {
   "cell_type": "code",
   "execution_count": null,
   "metadata": {
    "collapsed": true
   },
   "outputs": [],
   "source": []
  },
  {
   "cell_type": "code",
   "execution_count": null,
   "metadata": {
    "collapsed": true
   },
   "outputs": [],
   "source": []
  },
  {
   "cell_type": "code",
   "execution_count": null,
   "metadata": {
    "collapsed": true
   },
   "outputs": [],
   "source": []
  }
 ],
 "metadata": {
  "kernelspec": {
   "display_name": "Python 3",
   "language": "python",
   "name": "python3"
  },
  "language_info": {
   "codemirror_mode": {
    "name": "ipython",
    "version": 3
   },
   "file_extension": ".py",
   "mimetype": "text/x-python",
   "name": "python",
   "nbconvert_exporter": "python",
   "pygments_lexer": "ipython3",
   "version": "3.6.0"
  }
 },
 "nbformat": 4,
 "nbformat_minor": 2
}
